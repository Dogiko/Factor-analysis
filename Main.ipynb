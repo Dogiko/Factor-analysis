{
 "cells": [
  {
   "cell_type": "code",
   "execution_count": 63,
   "metadata": {
    "collapsed": true
   },
   "outputs": [],
   "source": [
    "import numpy as np\n",
    "\n",
    "class FactorMatrix():\n",
    "    def __init__(self, in_feature):\n",
    "        self.gram = np.zeros((in_feature, in_feature))\n",
    "        self.data_sum = np.zeros((in_feature))\n",
    "        self.datum_acc = 0\n",
    "    \n",
    "    def reset(self):\n",
    "        self.gram *= 0\n",
    "        self.data_sum *= 0\n",
    "        self.datum_acc *= 0\n",
    "    \n",
    "    def data_input(self, data):\n",
    "        # data : n*f array, n datums with f features\n",
    "        self.data_sum += data.sum(axis=0)\n",
    "        self.gram += np.dot(data.T, data)\n",
    "        self.datum_acc += len(data)\n",
    "    \n",
    "    def find_factor(self):\n",
    "        if self.datum_acc == 0:\n",
    "            raise ValueError(\"input data before analyze\")\n",
    "        \n",
    "        mean_gram = self.gram/self.datum_acc\n",
    "        \n",
    "        #mean_gram += (10**(-7))*np.abs(mean_gram).max()\n",
    "        self._mean = self.data_sum/self.datum_acc\n",
    "        self.info, self.factor = np.linalg.eigh(mean_gram - np.dot(self._mean.reshape(1,-1), self._mean.reshape(-1,1)))\n",
    "        self.info = self.info[::-1]\n",
    "        self.info /= self.info.sum()\n",
    "        self.factor = self.factor[:,::-1]\n",
    "    \n",
    "    def analyze(self, data, pick_factor):\n",
    "        # pick_factor : number of factor\n",
    "        return np.dot(data, self.factor[:, :pick_factor])"
   ]
  },
  {
   "cell_type": "markdown",
   "metadata": {},
   "source": [
    "# test"
   ]
  },
  {
   "cell_type": "code",
   "execution_count": 90,
   "metadata": {},
   "outputs": [],
   "source": [
    "data = np.zeros((1000000, 3))\n",
    "factor = np.random.normal(0, 1, (1000000, 3))\n",
    "\n",
    "data += 3*np.dot(factor[:,[0]], np.array([[-0.6, 0.8, 0]]))\n",
    "data += 2*np.dot(factor[:,[1]], np.array([[0.8, 0.6, 0]]))\n",
    "data += 1*np.dot(factor[:,[2]], np.array([[0, 0, 1]]))"
   ]
  },
  {
   "cell_type": "code",
   "execution_count": 91,
   "metadata": {},
   "outputs": [
    {
     "data": {
      "text/plain": [
       "0.018028967808040752"
      ]
     },
     "execution_count": 91,
     "metadata": {},
     "output_type": "execute_result"
    }
   ],
   "source": [
    "test = FactorMatrix(3)\n",
    "test.data_input(data)\n",
    "test.find_factor()\n",
    "np.abs(test.analyze(data, 3) - factor[:, :]*np.array([3,2,1])).max()"
   ]
  },
  {
   "cell_type": "code",
   "execution_count": 92,
   "metadata": {},
   "outputs": [
    {
     "data": {
      "text/plain": [
       "array([9.00809129, 3.99389147, 0.99801723])"
      ]
     },
     "execution_count": 92,
     "metadata": {},
     "output_type": "execute_result"
    }
   ],
   "source": [
    "test.info*14"
   ]
  },
  {
   "cell_type": "code",
   "execution_count": null,
   "metadata": {
    "collapsed": true
   },
   "outputs": [],
   "source": []
  }
 ],
 "metadata": {
  "kernelspec": {
   "display_name": "Python 3",
   "language": "python",
   "name": "python3"
  },
  "language_info": {
   "codemirror_mode": {
    "name": "ipython",
    "version": 3
   },
   "file_extension": ".py",
   "mimetype": "text/x-python",
   "name": "python",
   "nbconvert_exporter": "python",
   "pygments_lexer": "ipython3",
   "version": "3.6.4"
  }
 },
 "nbformat": 4,
 "nbformat_minor": 2
}
